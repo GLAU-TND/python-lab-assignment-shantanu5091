{
 "cells": [
  {
   "cell_type": "code",
   "execution_count": 11,
   "metadata": {},
   "outputs": [
    {
     "name": "stdout",
     "output_type": "stream",
     "text": [
      "TypeError unsupported operand type(s) for +: 'int' and 'str'\n"
     ]
    }
   ],
   "source": [
    "try:\n",
    "    a = 10\n",
    "    a = a + \"Shantanu\"\n",
    "    b = 'abcd'\n",
    "    b = int(b)\n",
    "    c.rename()\n",
    "except ValueError as e:\n",
    "    print(\"ValueError\",e)\n",
    "except TypeError as e:\n",
    "    print(\"TypeError\",e)\n",
    "except AttributeError as e:\n",
    "    print(\"AttributeError\",e)"
   ]
  },
  {
   "cell_type": "code",
   "execution_count": null,
   "metadata": {},
   "outputs": [],
   "source": []
  }
 ],
 "metadata": {
  "kernelspec": {
   "display_name": "Python 3",
   "language": "python",
   "name": "python3"
  },
  "language_info": {
   "codemirror_mode": {
    "name": "ipython",
    "version": 3
   },
   "file_extension": ".py",
   "mimetype": "text/x-python",
   "name": "python",
   "nbconvert_exporter": "python",
   "pygments_lexer": "ipython3",
   "version": "3.7.3"
  }
 },
 "nbformat": 4,
 "nbformat_minor": 2
}
